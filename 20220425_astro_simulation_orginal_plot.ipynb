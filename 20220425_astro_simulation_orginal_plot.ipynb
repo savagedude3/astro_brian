{
  "cells": [
    {
      "cell_type": "markdown",
      "metadata": {
        "id": "p4M-Jcnltyej"
      },
      "source": [
        "Replicating figure 6 from [biorxiv paper](https://www.biorxiv.org/content/10.1101/198366v1.full) \n",
        "\n",
        "![figure 6](https://www.biorxiv.org/content/biorxiv/early/2017/10/05/198366/F28.large.jpg?download=true)"
      ]
    },
    {
      "cell_type": "code",
      "execution_count": null,
      "metadata": {
        "colab": {
          "base_uri": "https://localhost:8080/"
        },
        "id": "3OcKjoeGtts-",
        "outputId": "5a581e96-7d9c-4753-980a-dd97c5c18a49"
      },
      "outputs": [],
      "source": [
        "#%pip install brian2\n",
        "#%pip install matplotlib"
      ]
    },
    {
      "cell_type": "code",
      "execution_count": 1,
      "metadata": {
        "id": "Btu1OnNQuRbF"
      },
      "outputs": [],
      "source": [
        "from brian2 import *\n",
        "import matplotlib.pyplot as plt\n",
        "\n",
        "#set_device('cpp_standalone', directory=None)  # Use fast \"C++ standalone mode\""
      ]
    },
    {
      "cell_type": "code",
      "execution_count": 2,
      "metadata": {
        "id": "aTu5a4sDuW0G"
      },
      "outputs": [],
      "source": [
        "#Brain2 docs plot utils \n",
        "def adjust_spines(ax, spines, position=5):\n",
        "    \"\"\"\n",
        "    Set custom visibility and position of axes\n",
        "\n",
        "    ax       : Axes\n",
        "     Axes handle\n",
        "    spines   : List\n",
        "     String list of 'left', 'bottom', 'right', 'top' spines to show\n",
        "    position : Integer\n",
        "     Number of points for position of axis\n",
        "    \"\"\"\n",
        "    for loc, spine in ax.spines.items():\n",
        "        if loc in spines:\n",
        "            spine.set_position(('outward', position))\n",
        "        else:\n",
        "            spine.set_color('none')  # don't draw spine\n",
        "\n",
        "    # turn off ticks where there is no spine\n",
        "    if 'left' in spines:\n",
        "        ax.yaxis.set_ticks_position('left')\n",
        "    elif 'right' in spines:\n",
        "        ax.yaxis.set_ticks_position('right')\n",
        "    else:\n",
        "        # no yaxis ticks\n",
        "        ax.yaxis.set_ticks([])\n",
        "        ax.tick_params(axis='y', which='both', left='off', right='off')\n",
        "\n",
        "    if 'bottom' in spines:\n",
        "        ax.xaxis.set_ticks_position('bottom')\n",
        "    elif 'top' in spines:\n",
        "        ax.xaxis.set_ticks_position('top')\n",
        "    else:\n",
        "        # no xaxis ticks\n",
        "        ax.xaxis.set_ticks([])\n",
        "        ax.tick_params(axis='x', which='both', bottom='off', top='off')\n",
        "\n",
        "\n",
        "def adjust_ylabels(ax,x_offset=0):\n",
        "    '''\n",
        "    Scan all ax list and identify the outmost y-axis position.\n",
        "    Setting all the labels to that position + x_offset.\n",
        "    '''\n",
        "\n",
        "    xc = 0.0\n",
        "    for a in ax:\n",
        "        xc = min(xc, (a.yaxis.get_label()).get_position()[0])\n",
        "\n",
        "    for a in ax:\n",
        "        a.yaxis.set_label_coords(xc + x_offset,\n",
        "                                 (a.yaxis.get_label()).get_position()[1])"
      ]
    },
    {
      "cell_type": "markdown",
      "metadata": {
        "id": "B1m2hDM4ufcQ"
      },
      "source": [
        "## Model Parameters"
      ]
    },
    {
      "cell_type": "code",
      "execution_count": 3,
      "metadata": {
        "id": "sLDUBOftuczN"
      },
      "outputs": [],
      "source": [
        "### General parameters\n",
        "N_e = 3200                   # Number of excitatory neurons\n",
        "N_i = 800                    # Number of inhibitory neurons\n",
        "N_a = 3200                   # Number of astrocytes\n",
        "\n",
        "## Some metrics parameters needed to establish proper connections\n",
        "size = 3.75*mmeter           # Length and width of the square lattice\n",
        "distance = 50*umeter         # Distance between neurons\n",
        "\n",
        "### Neuron parameters\n",
        "E_l = -60*mV                 # Leak reversal potential\n",
        "g_l = 9.99*nS                # Leak conductance\n",
        "E_e = 0*mV                   # Excitatory synaptic reversal potential\n",
        "E_i = -80*mV                 # Inhibitory synaptic reversal potential\n",
        "C_m = 198*pF                 # Membrane capacitance\n",
        "tau_e = 5*ms                 # Excitatory synaptic time constant\n",
        "tau_i = 10*ms                # Inhibitory synaptic time constant\n",
        "tau_r = 5*ms                 # Refractory period\n",
        "I_ex = 100*pA                # External current\n",
        "V_th = -50*mV                # Firing threshold\n",
        "V_r = E_l                    # Reset potential\n",
        "\n",
        "### Synapse parameters\n",
        "rho_c = 0.005                # Synaptic vesicle-to-extracellular space volume ratio\n",
        "Y_T = 500.*mmolar            # Total vesicular neurotransmitter concentration\n",
        "Omega_c = 40/second          # Neurotransmitter clearance rate\n",
        "U_0__star = 0.6              # Resting synaptic release probability\n",
        "Omega_f = 3.33/second        # Synaptic facilitation rate\n",
        "Omega_d = 2.0/second         # Synaptic depression rate\n",
        "w_e = 0.05*nS                # Excitatory synaptic conductance\n",
        "w_i = 1.0*nS                 # Inhibitory synaptic conductance\n",
        "# --- Presynaptic receptors\n",
        "O_G = 1.5/umolar/second      # Agonist binding (activating) rate\n",
        "Omega_G = 0.5/(60*second)    # Agonist release (deactivating) rate\n",
        "\n",
        "### Astrocyte parameters\n",
        "# ---  Calcium fluxes\n",
        "O_P = 0.9*umolar/second      # Maximal Ca^2+ uptake rate by SERCAs\n",
        "K_P = 0.05*umolar            # Ca2+ affinity of SERCAs\n",
        "C_T = 2*umolar               # Total cell free Ca^2+ content\n",
        "rho_A = 0.18                 # ER-to-cytoplasm volume ratio\n",
        "Omega_C = 6/second           # Maximal rate of Ca^2+ release by IP_3Rs\n",
        "Omega_L = 0.1/second         # Maximal rate of Ca^2+ leak from the ER\n",
        "# --- IP_3R kinectics\n",
        "d_1 = 0.13*umolar            # IP_3 binding affinity\n",
        "d_2 = 1.05*umolar            # Ca^2+ inactivation dissociation constant\n",
        "O_2 = 0.2/umolar/second      # IP_3R binding rate for Ca^2+ inhibition\n",
        "d_3 = 0.9434*umolar          # IP_3 dissociation constant\n",
        "d_5 = 0.08*umolar            # Ca^2+ activation dissociation constant\n",
        "# --- IP_3 production\n",
        "# --- Agonist-dependent IP_3 production\n",
        "O_beta = 0.5*umolar/second   # Maximal rate of IP_3 production by PLCbeta\n",
        "O_N = 0.3/umolar/second      # Agonist binding rate\n",
        "Omega_N = 0.5/second         # Maximal inactivation rate\n",
        "K_KC = 0.5*umolar            # Ca^2+ affinity of PKC\n",
        "zeta = 10                    # Maximal reduction of receptor affinity by PKC\n",
        "# --- Endogenous IP3 production\n",
        "O_delta = 1.2*umolar/second  # Maximal rate of IP_3 production by PLCdelta\n",
        "kappa_delta = 1.5*umolar     # Inhibition constant of PLC_delta by IP_3\n",
        "K_delta = 0.1*umolar         # Ca^2+ affinity of PLCdelta\n",
        "# --- IP_3 degradation\n",
        "Omega_5P = 0.05/second       # Maximal rate of IP_3 degradation by IP-5P\n",
        "K_D = 0.7*umolar             # Ca^2+ affinity of IP3-3K\n",
        "K_3K = 1.0*umolar            # IP_3 affinity of IP_3-3K\n",
        "O_3K = 4.5*umolar/second     # Maximal rate of IP_3 degradation by IP_3-3K\n",
        "# --- IP_3 diffusion\n",
        "F = 0.09*umolar/second       # GJC IP_3 permeability\n",
        "I_Theta = 0.3*umolar         # Threshold gradient for IP_3 diffusion\n",
        "omega_I = 0.05*umolar        # Scaling factor of diffusion\n",
        "# --- Gliotransmitter release and time course\n",
        "C_Theta = 0.5*umolar         # Ca^2+ threshold for exocytosis\n",
        "Omega_A = 0.6/second         # Gliotransmitter recycling rate\n",
        "U_A = 0.6                    # Gliotransmitter release probability\n",
        "G_T = 200*mmolar             # Total vesicular gliotransmitter concentration\n",
        "rho_e = 6.5e-4               # Astrocytic vesicle-to-extracellular volume ratio\n",
        "Omega_e = 60/second          # Gliotransmitter clearance rate\n",
        "alpha = 0.0                  # Gliotransmission nature"
      ]
    },
    {
      "cell_type": "markdown",
      "metadata": {
        "id": "9zxSfjrTul_8"
      },
      "source": [
        "## Define HF Stimulus"
      ]
    },
    {
      "cell_type": "code",
      "execution_count": 4,
      "metadata": {
        "id": "hTbG0UumuZPY"
      },
      "outputs": [],
      "source": [
        "stimulus = TimedArray([1.0, 1.2, 1.0, 1.0], dt=2*second)\n",
        "duration = 6*second          # Total simulation time"
      ]
    },
    {
      "cell_type": "markdown",
      "metadata": {
        "id": "SquIZaSnuygB"
      },
      "source": [
        "## Model Definition"
      ]
    },
    {
      "cell_type": "code",
      "execution_count": 5,
      "metadata": {
        "id": "1APVyG4Su2do"
      },
      "outputs": [],
      "source": [
        "### Neurons\n",
        "neuron_eqs = '''\n",
        "dv/dt = (g_l*(E_l-v) + g_e*(E_e-v) + g_i*(E_i-v) + I_ex*stimulus(t))/C_m : volt (unless refractory)\n",
        "dg_e/dt = -g_e/tau_e : siemens  # post-synaptic excitatory conductance\n",
        "dg_i/dt = -g_i/tau_i : siemens  # post-synaptic inhibitory conductance\n",
        "# Neuron position in space\n",
        "x : meter (constant)\n",
        "y : meter (constant)\n",
        "'''\n",
        "neurons = NeuronGroup(N_e + N_i, model=neuron_eqs,\n",
        "                      threshold='v>V_th', reset='v=V_r',\n",
        "                      refractory='tau_r', method='euler')\n",
        "exc_neurons = neurons[:N_e]\n",
        "inh_neurons = neurons[N_e:]\n",
        "# Arrange excitatory neurons in a grid\n",
        "N_rows = int(sqrt(N_e))\n",
        "N_cols = N_e//N_rows\n",
        "grid_dist = (size / N_cols)\n",
        "exc_neurons.x = '(i // N_rows)*grid_dist - N_rows/2.0*grid_dist'\n",
        "exc_neurons.y = '(i % N_rows)*grid_dist - N_cols/2.0*grid_dist'\n",
        "# Random initial membrane potential values and conductances\n",
        "neurons.v = 'E_l + rand()*(V_th-E_l)'\n",
        "neurons.g_e = 'rand()*w_e'\n",
        "neurons.g_i = 'rand()*w_i'\n",
        "\n",
        "### Synapses\n",
        "synapses_eqs = '''\n",
        "# Neurotransmitter\n",
        "dY_S/dt = -Omega_c * Y_S                                    : mmolar (clock-driven)\n",
        "# Fraction of activated presynaptic receptors\n",
        "dGamma_S/dt = O_G * G_A * (1 - Gamma_S) - Omega_G * Gamma_S : 1 (clock-driven)\n",
        "# Usage of releasable neurotransmitter per single action potential:\n",
        "du_S/dt = -Omega_f * u_S                                    : 1 (event-driven)\n",
        "# Fraction of synaptic neurotransmitter resources available for release:\n",
        "dx_S/dt = Omega_d *(1 - x_S)                                : 1 (event-driven)\n",
        "U_0                                                         : 1\n",
        "# released synaptic neurotransmitter resources:\n",
        "r_S                                                         : 1\n",
        "# gliotransmitter concentration in the extracellular space:\n",
        "G_A                                                         : mmolar\n",
        "# which astrocyte covers this synapse ?\n",
        "astrocyte_index : integer (constant)\n",
        "'''\n",
        "synapses_action = '''\n",
        "U_0 = (1 - Gamma_S) * U_0__star + alpha * Gamma_S\n",
        "u_S += U_0 * (1 - u_S)\n",
        "r_S = u_S * x_S\n",
        "x_S -= r_S\n",
        "Y_S += rho_c * Y_T * r_S\n",
        "'''\n",
        "exc_syn = Synapses(exc_neurons, neurons, model=synapses_eqs,\n",
        "                   on_pre=synapses_action+'g_e_post += w_e*r_S',\n",
        "                   method='exact')\n",
        "exc_syn.connect(True, p=0.05)\n",
        "exc_syn.x_S = 1.0\n",
        "inh_syn = Synapses(inh_neurons, neurons, model=synapses_eqs,\n",
        "                   on_pre=synapses_action+'g_i_post += w_i*r_S',\n",
        "                   method='exact')\n",
        "inh_syn.connect(True, p=0.2)\n",
        "inh_syn.x_S = 1.0\n",
        "# Connect excitatory synapses to an astrocyte depending on the position of the\n",
        "# post-synaptic neuron\n",
        "N_rows_a = int(sqrt(N_a))\n",
        "N_cols_a = N_a/N_rows_a\n",
        "grid_dist = size / N_rows_a\n",
        "exc_syn.astrocyte_index = ('int(x_post/grid_dist) + '\n",
        "                           'N_cols_a*int(y_post/grid_dist)')\n",
        "### Astrocytes\n",
        "# The astrocyte emits gliotransmitter when its Ca^2+ concentration crosses\n",
        "# a threshold\n",
        "astro_eqs = '''\n",
        "# Fraction of activated astrocyte receptors:\n",
        "dGamma_A/dt = O_N * Y_S * (1 - clip(Gamma_A,0,1)) -\n",
        "              Omega_N*(1 + zeta * C/(C + K_KC)) * clip(Gamma_A,0,1) : 1\n",
        "# Intracellular IP_3\n",
        "dI/dt = J_beta + J_delta - J_3K - J_5P + J_coupling              : mmolar\n",
        "J_beta = O_beta * Gamma_A                                        : mmolar/second\n",
        "J_delta = O_delta/(1 + I/kappa_delta) * C**2/(C**2 + K_delta**2) : mmolar/second\n",
        "J_3K = O_3K * C**4/(C**4 + K_D**4) * I/(I + K_3K)                : mmolar/second\n",
        "J_5P = Omega_5P*I                                                : mmolar/second\n",
        "# Diffusion between astrocytes:\n",
        "J_coupling                                                       : mmolar/second\n",
        "\n",
        "# Ca^2+-induced Ca^2+ release:\n",
        "dC/dt = J_r + J_l - J_p                                   : mmolar\n",
        "dh/dt = (h_inf - h)/tau_h                                 : 1\n",
        "J_r = (Omega_C * m_inf**3 * h**3) * (C_T - (1 + rho_A)*C) : mmolar/second\n",
        "J_l = Omega_L * (C_T - (1 + rho_A)*C)                     : mmolar/second\n",
        "J_p = O_P * C**2/(C**2 + K_P**2)                          : mmolar/second\n",
        "m_inf = I/(I + d_1) * C/(C + d_5)                         : 1\n",
        "h_inf = Q_2/(Q_2 + C)                                     : 1\n",
        "tau_h = 1/(O_2 * (Q_2 + C))                               : second\n",
        "Q_2 = d_2 * (I + d_1)/(I + d_3)                           : mmolar\n",
        "\n",
        "# Fraction of gliotransmitter resources available for release:\n",
        "dx_A/dt = Omega_A * (1 - x_A) : 1\n",
        "# gliotransmitter concentration in the extracellular space:\n",
        "dG_A/dt = -Omega_e*G_A        : mmolar\n",
        "# Neurotransmitter concentration in the extracellular space:\n",
        "Y_S                           : mmolar\n",
        "# The astrocyte position in space\n",
        "x : meter (constant)\n",
        "y : meter (constant)\n",
        "'''\n",
        "glio_release = '''\n",
        "G_A += rho_e * G_T * U_A * x_A\n",
        "x_A -= U_A *  x_A\n",
        "'''\n",
        "astrocytes = NeuronGroup(N_a, astro_eqs,\n",
        "                         # The following formulation makes sure that a \"spike\" is\n",
        "                         # only triggered at the first threshold crossing\n",
        "                         threshold='C>C_Theta',\n",
        "                         refractory='C>C_Theta',\n",
        "                         # The gliotransmitter release happens when the threshold\n",
        "                         # is crossed, in Brian terms it can therefore be\n",
        "                         # considered a \"reset\"\n",
        "                         reset=glio_release,\n",
        "                         method='rk4',\n",
        "                         dt=1e-2*second)\n",
        "# Arrange astrocytes in a grid\n",
        "astrocytes.x = '(i // N_rows_a)*grid_dist - N_rows_a/2.0*grid_dist'\n",
        "astrocytes.y = '(i % N_rows_a)*grid_dist - N_cols_a/2.0*grid_dist'\n",
        "# Add random initialization\n",
        "astrocytes.C = 0.01*umolar\n",
        "astrocytes.h = 0.9\n",
        "astrocytes.I = 0.01*umolar\n",
        "astrocytes.x_A = 1.0\n",
        "\n",
        "ecs_astro_to_syn = Synapses(astrocytes, exc_syn,\n",
        "                            'G_A_post = G_A_pre : mmolar (summed)')\n",
        "ecs_astro_to_syn.connect('i == astrocyte_index_post')\n",
        "ecs_syn_to_astro = Synapses(exc_syn, astrocytes,\n",
        "                            'Y_S_post = Y_S_pre/N_incoming : mmolar (summed)')\n",
        "ecs_syn_to_astro.connect('astrocyte_index_pre == j')\n",
        "# Diffusion between astrocytes\n",
        "astro_to_astro_eqs = '''\n",
        "delta_I = I_post - I_pre            : mmolar\n",
        "J_coupling_post = -(1 + tanh((abs(delta_I) - I_Theta)/omega_I))*\n",
        "                  sign(delta_I)*F/2 : mmolar/second (summed)\n",
        "'''\n",
        "astro_to_astro = Synapses(astrocytes, astrocytes,\n",
        "                          model=astro_to_astro_eqs)\n",
        "# Connect to all astrocytes less than 75um away\n",
        "# (about 4 connections per astrocyte)\n",
        "astro_to_astro.connect('i != j and '\n",
        "                       'sqrt((x_pre-x_post)**2 +'\n",
        "                       '     (y_pre-y_post)**2) < 75*um')"
      ]
    },
    {
      "cell_type": "markdown",
      "metadata": {
        "id": "3V3AI2mWu7C8"
      },
      "source": [
        "## Monitors"
      ]
    },
    {
      "cell_type": "code",
      "execution_count": 6,
      "metadata": {
        "id": "88A62Qcou9Wd"
      },
      "outputs": [],
      "source": [
        "# Note that we could use a single monitor for all neurons instead, but this\n",
        "# way plotting is a bit easier in the end\n",
        "exc_mon = SpikeMonitor(exc_neurons)\n",
        "inh_mon = SpikeMonitor(inh_neurons)\n",
        "ast_mon = SpikeMonitor(astrocytes)"
      ]
    },
    {
      "cell_type": "markdown",
      "metadata": {
        "id": "XgveMGQvu_uh"
      },
      "source": [
        "## Simulation Run"
      ]
    },
    {
      "cell_type": "code",
      "execution_count": 7,
      "metadata": {
        "colab": {
          "base_uri": "https://localhost:8080/"
        },
        "id": "5TTlDT5tvCh7",
        "outputId": "b29866e8-b460-4c87-8507-fb20b142787f"
      },
      "outputs": [
        {
          "name": "stdout",
          "output_type": "stream",
          "text": [
            "Starting simulation at t=0. s for a duration of 6. s\n",
            "248. ms (4%) simulated in 10s, estimated 3m 52s remaining.\n",
            "0.4964 s (8%) simulated in 20s, estimated 3m 42s remaining.\n",
            "0.745 s (12%) simulated in 30s, estimated 3m 32s remaining.\n",
            "0.9927 s (16%) simulated in 40s, estimated 3m 22s remaining.\n",
            "1.2362 s (20%) simulated in 50s, estimated 3m 13s remaining.\n",
            "1.4844 s (24%) simulated in 1m 0s, estimated 3m 3s remaining.\n",
            "1.733 s (28%) simulated in 1m 10s, estimated 2m 52s remaining.\n",
            "1.9809 s (33%) simulated in 1m 20s, estimated 2m 42s remaining.\n",
            "2.2263 s (37%) simulated in 1m 30s, estimated 2m 33s remaining.\n",
            "2.4579 s (40%) simulated in 1m 40s, estimated 2m 24s remaining.\n",
            "2.6201 s (43%) simulated in 1m 50s, estimated 2m 22s remaining.\n",
            "2.8265 s (47%) simulated in 2m 0s, estimated 2m 15s remaining.\n",
            "3.0679 s (51%) simulated in 2m 10s, estimated 2m 4s remaining.\n",
            "3.3144 s (55%) simulated in 2m 20s, estimated 1m 53s remaining.\n",
            "3.5621 s (59%) simulated in 2m 30s, estimated 1m 43s remaining.\n",
            "3.8109 s (63%) simulated in 2m 40s, estimated 1m 32s remaining.\n",
            "4.0585 s (67%) simulated in 2m 50s, estimated 1m 21s remaining.\n",
            "4.3066 s (71%) simulated in 3m 0s, estimated 1m 11s remaining.\n",
            "4.5536 s (75%) simulated in 3m 10s, estimated 1m 0s remaining.\n",
            "4.8006 s (80%) simulated in 3m 20s, estimated 50s remaining.\n",
            "5.0489 s (84%) simulated in 3m 30s, estimated 40s remaining.\n",
            "5.2951 s (88%) simulated in 3m 40s, estimated 29s remaining.\n",
            "5.5404 s (92%) simulated in 3m 50s, estimated 19s remaining.\n",
            "5.7873 s (96%) simulated in 4m 0s, estimated 9s remaining.\n",
            "6. s (100%) simulated in 4m 8s\n"
          ]
        }
      ],
      "source": [
        "run(duration, report='text')"
      ]
    },
    {
      "cell_type": "markdown",
      "metadata": {
        "id": "1wAPMLTMvEFq"
      },
      "source": [
        "## Plot of Spiking Activity"
      ]
    },
    {
      "cell_type": "code",
      "execution_count": 13,
      "metadata": {
        "colab": {
          "base_uri": "https://localhost:8080/",
          "height": 376
        },
        "id": "xSjvsfk9vJzR",
        "outputId": "e87fd87f-c795-4a1c-edba-6c5262af9be7"
      },
      "outputs": [
        {
          "data": {
            "image/png": "[encoded data removed]",
            "text/plain": [
              "<Figure size 864x576 with 3 Axes>"
            ]
          },
          "metadata": {
            "needs_background": "light"
          },
          "output_type": "display_data"
        }
      ],
      "source": [
        "#plt.style.use('figures.mplstyle')\n",
        "\n",
        "fig, ax = plt.subplots(nrows=3, ncols=1, sharex=True, figsize=(12, 10*0.8),\n",
        "                       gridspec_kw={'height_ratios': [1, 6, 2],\n",
        "                                    'left': 0.12, 'top': 0.97})\n",
        "time_range = np.linspace(0, duration/second, int(duration/second*100))*second\n",
        "ax[0].plot(time_range, I_ex*stimulus(time_range)/pA, 'k')\n",
        "ax[0].set(xlim=(0, duration/second), ylim=(98, 122),\n",
        "          yticks=[100, 120], ylabel='$I_{ex}$ (pA)')\n",
        "adjust_spines(ax[0], ['left'])\n",
        "\n",
        "## We only plot a fraction of the spikes\n",
        "fraction = 4\n",
        "ax[1].plot(exc_mon.t[exc_mon.i <= N_e//fraction]/second,\n",
        "           exc_mon.i[exc_mon.i <= N_e//fraction], '|', color='red')\n",
        "ax[1].plot(inh_mon.t[inh_mon.i <= N_i//fraction]/second,\n",
        "           inh_mon.i[inh_mon.i <= N_i//fraction]+N_e//fraction, '|', color='blue')\n",
        "ax[1].plot(ast_mon.t[ast_mon.i <= N_a//fraction]/second,\n",
        "           ast_mon.i[ast_mon.i <= N_a//fraction]+(N_e+N_i)//fraction,\n",
        "           '|', color='green')\n",
        "ax[1].set(xlim=(0, duration/second), ylim=[0, (N_e+N_i+N_a)//fraction],\n",
        "          yticks=np.arange(0, (N_e+N_i+N_a)//fraction+1, 250),\n",
        "          ylabel='cell index')\n",
        "adjust_spines(ax[1], ['left'])\n",
        "\n",
        "# Generate frequencies\n",
        "bin_size = 1*ms\n",
        "spk_count, bin_edges = np.histogram(np.r_[exc_mon.t/second, inh_mon.t/second],\n",
        "                                    int(duration/bin_size))\n",
        "rate = 1.0*spk_count/(N_e + N_i)/bin_size/Hz\n",
        "rate[rate<0.001] = 0.001 # Fix 0 lower bound for log scale\n",
        "ax[2].semilogy(bin_edges[:-1], rate, '-', color='k')\n",
        "adjust_spines(ax[2], ['left', 'bottom'])\n",
        "ax[2].set(xlim=(0, duration/second), ylim=(0.1, 150),\n",
        "          xticks=np.arange(0, 7), yticks=[0.1, 1, 10, 100],\n",
        "          xlabel='time (s)', ylabel='rate (Hz)')\n",
        "ax[2].get_yaxis().set_major_formatter(ScalarFormatter())\n",
        "\n",
        "adjust_ylabels(ax, x_offset=-0.11)\n",
        "\n",
        "plt.savefig(\"C:/Users/Justin/Desktop/prob_1_sim.png\")"
      ]
    }
  ],
  "metadata": {
    "colab": {
      "name": "brian_astro_fig6.ipynb",
      "provenance": []
    },
    "kernelspec": {
      "display_name": "Python 3",
      "name": "python3"
    },
    "language_info": {
      "codemirror_mode": {
        "name": "ipython",
        "version": 3
      },
      "file_extension": ".py",
      "mimetype": "text/x-python",
      "name": "python",
      "nbconvert_exporter": "python",
      "pygments_lexer": "ipython3",
      "version": "3.10.4"
    }
  },
  "nbformat": 4,
  "nbformat_minor": 0
}
