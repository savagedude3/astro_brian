{
  "nbformat": 4,
  "nbformat_minor": 0,
  "metadata": {
    "colab": {
      "name": "brian_astro_fig6.ipynb",
      "provenance": []
    },
    "kernelspec": {
      "name": "python3",
      "display_name": "Python 3"
    },
    "language_info": {
      "name": "python"
    }
  },
  "cells": [
    {
      "cell_type": "markdown",
      "source": [
        "Replicating figure 6 from [biorxiv paper](https://www.biorxiv.org/content/10.1101/198366v1.full) \n",
        "\n",
        "![figure 6](https://www.biorxiv.org/content/biorxiv/early/2017/10/05/198366/F28.large.jpg?download=true)"
      ],
      "metadata": {
        "id": "p4M-Jcnltyej"
      }
    },
    {
      "cell_type": "code",
      "execution_count": 1,
      "metadata": {
        "colab": {
          "base_uri": "https://localhost:8080/"
        },
        "id": "3OcKjoeGtts-",
        "outputId": "0ac8d42f-2ae7-42dd-cf4c-04a82b8164be"
      },
      "outputs": [
        {
          "output_type": "stream",
          "name": "stdout",
          "text": [
            "Collecting brian2\n",
            "  Downloading Brian2-2.5.0.3-cp37-cp37m-manylinux_2_17_x86_64.manylinux2014_x86_64.whl (1.5 MB)\n",
            "\u001b[?25l\r\u001b[K     |▎                               | 10 kB 20.0 MB/s eta 0:00:01\r\u001b[K     |▌                               | 20 kB 21.0 MB/s eta 0:00:01\r\u001b[K     |▊                               | 30 kB 23.4 MB/s eta 0:00:01\r\u001b[K     |█                               | 40 kB 26.1 MB/s eta 0:00:01\r\u001b[K     |█▏                              | 51 kB 16.6 MB/s eta 0:00:01\r\u001b[K     |█▍                              | 61 kB 17.8 MB/s eta 0:00:01\r\u001b[K     |█▋                              | 71 kB 18.2 MB/s eta 0:00:01\r\u001b[K     |█▉                              | 81 kB 19.0 MB/s eta 0:00:01\r\u001b[K     |██                              | 92 kB 20.1 MB/s eta 0:00:01\r\u001b[K     |██▎                             | 102 kB 20.9 MB/s eta 0:00:01\r\u001b[K     |██▌                             | 112 kB 20.9 MB/s eta 0:00:01\r\u001b[K     |██▊                             | 122 kB 20.9 MB/s eta 0:00:01\r\u001b[K     |███                             | 133 kB 20.9 MB/s eta 0:00:01\r\u001b[K     |███▏                            | 143 kB 20.9 MB/s eta 0:00:01\r\u001b[K     |███▍                            | 153 kB 20.9 MB/s eta 0:00:01\r\u001b[K     |███▋                            | 163 kB 20.9 MB/s eta 0:00:01\r\u001b[K     |███▉                            | 174 kB 20.9 MB/s eta 0:00:01\r\u001b[K     |████                            | 184 kB 20.9 MB/s eta 0:00:01\r\u001b[K     |████▎                           | 194 kB 20.9 MB/s eta 0:00:01\r\u001b[K     |████▌                           | 204 kB 20.9 MB/s eta 0:00:01\r\u001b[K     |████▊                           | 215 kB 20.9 MB/s eta 0:00:01\r\u001b[K     |█████                           | 225 kB 20.9 MB/s eta 0:00:01\r\u001b[K     |█████▏                          | 235 kB 20.9 MB/s eta 0:00:01\r\u001b[K     |█████▍                          | 245 kB 20.9 MB/s eta 0:00:01\r\u001b[K     |█████▋                          | 256 kB 20.9 MB/s eta 0:00:01\r\u001b[K     |█████▉                          | 266 kB 20.9 MB/s eta 0:00:01\r\u001b[K     |██████                          | 276 kB 20.9 MB/s eta 0:00:01\r\u001b[K     |██████▎                         | 286 kB 20.9 MB/s eta 0:00:01\r\u001b[K     |██████▌                         | 296 kB 20.9 MB/s eta 0:00:01\r\u001b[K     |██████▊                         | 307 kB 20.9 MB/s eta 0:00:01\r\u001b[K     |███████                         | 317 kB 20.9 MB/s eta 0:00:01\r\u001b[K     |███████▏                        | 327 kB 20.9 MB/s eta 0:00:01\r\u001b[K     |███████▍                        | 337 kB 20.9 MB/s eta 0:00:01\r\u001b[K     |███████▋                        | 348 kB 20.9 MB/s eta 0:00:01\r\u001b[K     |███████▉                        | 358 kB 20.9 MB/s eta 0:00:01\r\u001b[K     |████████                        | 368 kB 20.9 MB/s eta 0:00:01\r\u001b[K     |████████▎                       | 378 kB 20.9 MB/s eta 0:00:01\r\u001b[K     |████████▌                       | 389 kB 20.9 MB/s eta 0:00:01\r\u001b[K     |████████▊                       | 399 kB 20.9 MB/s eta 0:00:01\r\u001b[K     |█████████                       | 409 kB 20.9 MB/s eta 0:00:01\r\u001b[K     |█████████▏                      | 419 kB 20.9 MB/s eta 0:00:01\r\u001b[K     |█████████▍                      | 430 kB 20.9 MB/s eta 0:00:01\r\u001b[K     |█████████▋                      | 440 kB 20.9 MB/s eta 0:00:01\r\u001b[K     |█████████▉                      | 450 kB 20.9 MB/s eta 0:00:01\r\u001b[K     |██████████                      | 460 kB 20.9 MB/s eta 0:00:01\r\u001b[K     |██████████▎                     | 471 kB 20.9 MB/s eta 0:00:01\r\u001b[K     |██████████▌                     | 481 kB 20.9 MB/s eta 0:00:01\r\u001b[K     |██████████▊                     | 491 kB 20.9 MB/s eta 0:00:01\r\u001b[K     |███████████                     | 501 kB 20.9 MB/s eta 0:00:01\r\u001b[K     |███████████▏                    | 512 kB 20.9 MB/s eta 0:00:01\r\u001b[K     |███████████▍                    | 522 kB 20.9 MB/s eta 0:00:01\r\u001b[K     |███████████▋                    | 532 kB 20.9 MB/s eta 0:00:01\r\u001b[K     |███████████▉                    | 542 kB 20.9 MB/s eta 0:00:01\r\u001b[K     |████████████                    | 552 kB 20.9 MB/s eta 0:00:01\r\u001b[K     |████████████▎                   | 563 kB 20.9 MB/s eta 0:00:01\r\u001b[K     |████████████▌                   | 573 kB 20.9 MB/s eta 0:00:01\r\u001b[K     |████████████▊                   | 583 kB 20.9 MB/s eta 0:00:01\r\u001b[K     |█████████████                   | 593 kB 20.9 MB/s eta 0:00:01\r\u001b[K     |█████████████▏                  | 604 kB 20.9 MB/s eta 0:00:01\r\u001b[K     |█████████████▍                  | 614 kB 20.9 MB/s eta 0:00:01\r\u001b[K     |█████████████▋                  | 624 kB 20.9 MB/s eta 0:00:01\r\u001b[K     |█████████████▉                  | 634 kB 20.9 MB/s eta 0:00:01\r\u001b[K     |██████████████                  | 645 kB 20.9 MB/s eta 0:00:01\r\u001b[K     |██████████████▎                 | 655 kB 20.9 MB/s eta 0:00:01\r\u001b[K     |██████████████▌                 | 665 kB 20.9 MB/s eta 0:00:01\r\u001b[K     |██████████████▊                 | 675 kB 20.9 MB/s eta 0:00:01\r\u001b[K     |███████████████                 | 686 kB 20.9 MB/s eta 0:00:01\r\u001b[K     |███████████████▏                | 696 kB 20.9 MB/s eta 0:00:01\r\u001b[K     |███████████████▍                | 706 kB 20.9 MB/s eta 0:00:01\r\u001b[K     |███████████████▋                | 716 kB 20.9 MB/s eta 0:00:01\r\u001b[K     |███████████████▉                | 727 kB 20.9 MB/s eta 0:00:01\r\u001b[K     |████████████████                | 737 kB 20.9 MB/s eta 0:00:01\r\u001b[K     |████████████████▎               | 747 kB 20.9 MB/s eta 0:00:01\r\u001b[K     |████████████████▌               | 757 kB 20.9 MB/s eta 0:00:01\r\u001b[K     |████████████████▊               | 768 kB 20.9 MB/s eta 0:00:01\r\u001b[K     |█████████████████               | 778 kB 20.9 MB/s eta 0:00:01\r\u001b[K     |█████████████████▏              | 788 kB 20.9 MB/s eta 0:00:01\r\u001b[K     |█████████████████▍              | 798 kB 20.9 MB/s eta 0:00:01\r\u001b[K     |█████████████████▋              | 808 kB 20.9 MB/s eta 0:00:01\r\u001b[K     |█████████████████▉              | 819 kB 20.9 MB/s eta 0:00:01\r\u001b[K     |██████████████████              | 829 kB 20.9 MB/s eta 0:00:01\r\u001b[K     |██████████████████▎             | 839 kB 20.9 MB/s eta 0:00:01\r\u001b[K     |██████████████████▌             | 849 kB 20.9 MB/s eta 0:00:01\r\u001b[K     |██████████████████▊             | 860 kB 20.9 MB/s eta 0:00:01\r\u001b[K     |███████████████████             | 870 kB 20.9 MB/s eta 0:00:01\r\u001b[K     |███████████████████▏            | 880 kB 20.9 MB/s eta 0:00:01\r\u001b[K     |███████████████████▍            | 890 kB 20.9 MB/s eta 0:00:01\r\u001b[K     |███████████████████▋            | 901 kB 20.9 MB/s eta 0:00:01\r\u001b[K     |███████████████████▉            | 911 kB 20.9 MB/s eta 0:00:01\r\u001b[K     |████████████████████▏           | 921 kB 20.9 MB/s eta 0:00:01\r\u001b[K     |████████████████████▍           | 931 kB 20.9 MB/s eta 0:00:01\r\u001b[K     |████████████████████▋           | 942 kB 20.9 MB/s eta 0:00:01\r\u001b[K     |████████████████████▉           | 952 kB 20.9 MB/s eta 0:00:01\r\u001b[K     |█████████████████████           | 962 kB 20.9 MB/s eta 0:00:01\r\u001b[K     |█████████████████████▎          | 972 kB 20.9 MB/s eta 0:00:01\r\u001b[K     |█████████████████████▌          | 983 kB 20.9 MB/s eta 0:00:01\r\u001b[K     |█████████████████████▊          | 993 kB 20.9 MB/s eta 0:00:01\r\u001b[K     |██████████████████████          | 1.0 MB 20.9 MB/s eta 0:00:01\r\u001b[K     |██████████████████████▏         | 1.0 MB 20.9 MB/s eta 0:00:01\r\u001b[K     |██████████████████████▍         | 1.0 MB 20.9 MB/s eta 0:00:01\r\u001b[K     |██████████████████████▋         | 1.0 MB 20.9 MB/s eta 0:00:01\r\u001b[K     |██████████████████████▉         | 1.0 MB 20.9 MB/s eta 0:00:01\r\u001b[K     |███████████████████████         | 1.1 MB 20.9 MB/s eta 0:00:01\r\u001b[K     |███████████████████████▎        | 1.1 MB 20.9 MB/s eta 0:00:01\r\u001b[K     |███████████████████████▌        | 1.1 MB 20.9 MB/s eta 0:00:01\r\u001b[K     |███████████████████████▊        | 1.1 MB 20.9 MB/s eta 0:00:01\r\u001b[K     |████████████████████████        | 1.1 MB 20.9 MB/s eta 0:00:01\r\u001b[K     |████████████████████████▏       | 1.1 MB 20.9 MB/s eta 0:00:01\r\u001b[K     |████████████████████████▍       | 1.1 MB 20.9 MB/s eta 0:00:01\r\u001b[K     |████████████████████████▋       | 1.1 MB 20.9 MB/s eta 0:00:01\r\u001b[K     |████████████████████████▉       | 1.1 MB 20.9 MB/s eta 0:00:01\r\u001b[K     |█████████████████████████       | 1.1 MB 20.9 MB/s eta 0:00:01\r\u001b[K     |█████████████████████████▎      | 1.2 MB 20.9 MB/s eta 0:00:01\r\u001b[K     |█████████████████████████▌      | 1.2 MB 20.9 MB/s eta 0:00:01\r\u001b[K     |█████████████████████████▊      | 1.2 MB 20.9 MB/s eta 0:00:01\r\u001b[K     |██████████████████████████      | 1.2 MB 20.9 MB/s eta 0:00:01\r\u001b[K     |██████████████████████████▏     | 1.2 MB 20.9 MB/s eta 0:00:01\r\u001b[K     |██████████████████████████▍     | 1.2 MB 20.9 MB/s eta 0:00:01\r\u001b[K     |██████████████████████████▋     | 1.2 MB 20.9 MB/s eta 0:00:01\r\u001b[K     |██████████████████████████▉     | 1.2 MB 20.9 MB/s eta 0:00:01\r\u001b[K     |███████████████████████████     | 1.2 MB 20.9 MB/s eta 0:00:01\r\u001b[K     |███████████████████████████▎    | 1.2 MB 20.9 MB/s eta 0:00:01\r\u001b[K     |███████████████████████████▌    | 1.3 MB 20.9 MB/s eta 0:00:01\r\u001b[K     |███████████████████████████▊    | 1.3 MB 20.9 MB/s eta 0:00:01\r\u001b[K     |████████████████████████████    | 1.3 MB 20.9 MB/s eta 0:00:01\r\u001b[K     |████████████████████████████▏   | 1.3 MB 20.9 MB/s eta 0:00:01\r\u001b[K     |████████████████████████████▍   | 1.3 MB 20.9 MB/s eta 0:00:01\r\u001b[K     |████████████████████████████▋   | 1.3 MB 20.9 MB/s eta 0:00:01\r\u001b[K     |████████████████████████████▉   | 1.3 MB 20.9 MB/s eta 0:00:01\r\u001b[K     |█████████████████████████████   | 1.3 MB 20.9 MB/s eta 0:00:01\r\u001b[K     |█████████████████████████████▎  | 1.3 MB 20.9 MB/s eta 0:00:01\r\u001b[K     |█████████████████████████████▌  | 1.4 MB 20.9 MB/s eta 0:00:01\r\u001b[K     |█████████████████████████████▊  | 1.4 MB 20.9 MB/s eta 0:00:01\r\u001b[K     |██████████████████████████████  | 1.4 MB 20.9 MB/s eta 0:00:01\r\u001b[K     |██████████████████████████████▏ | 1.4 MB 20.9 MB/s eta 0:00:01\r\u001b[K     |██████████████████████████████▍ | 1.4 MB 20.9 MB/s eta 0:00:01\r\u001b[K     |██████████████████████████████▋ | 1.4 MB 20.9 MB/s eta 0:00:01\r\u001b[K     |██████████████████████████████▉ | 1.4 MB 20.9 MB/s eta 0:00:01\r\u001b[K     |███████████████████████████████ | 1.4 MB 20.9 MB/s eta 0:00:01\r\u001b[K     |███████████████████████████████▎| 1.4 MB 20.9 MB/s eta 0:00:01\r\u001b[K     |███████████████████████████████▌| 1.4 MB 20.9 MB/s eta 0:00:01\r\u001b[K     |███████████████████████████████▊| 1.5 MB 20.9 MB/s eta 0:00:01\r\u001b[K     |████████████████████████████████| 1.5 MB 20.9 MB/s eta 0:00:01\r\u001b[K     |████████████████████████████████| 1.5 MB 20.9 MB/s \n",
            "\u001b[?25hRequirement already satisfied: jinja2>=2.7 in /usr/local/lib/python3.7/dist-packages (from brian2) (2.11.3)\n",
            "Requirement already satisfied: pyparsing in /usr/local/lib/python3.7/dist-packages (from brian2) (3.0.7)\n",
            "Requirement already satisfied: sympy>=1.2 in /usr/local/lib/python3.7/dist-packages (from brian2) (1.7.1)\n",
            "Requirement already satisfied: numpy>=1.17 in /usr/local/lib/python3.7/dist-packages (from brian2) (1.21.5)\n",
            "Requirement already satisfied: cython>=0.29 in /usr/local/lib/python3.7/dist-packages (from brian2) (0.29.28)\n",
            "Requirement already satisfied: setuptools>=24.2 in /usr/local/lib/python3.7/dist-packages (from brian2) (57.4.0)\n",
            "Requirement already satisfied: MarkupSafe>=0.23 in /usr/local/lib/python3.7/dist-packages (from jinja2>=2.7->brian2) (2.0.1)\n",
            "Requirement already satisfied: mpmath>=0.19 in /usr/local/lib/python3.7/dist-packages (from sympy>=1.2->brian2) (1.2.1)\n",
            "Installing collected packages: brian2\n",
            "Successfully installed brian2-2.5.0.3\n"
          ]
        }
      ],
      "source": [
        "!pip install brian2"
      ]
    },
    {
      "cell_type": "code",
      "source": [
        "from brian2 import *\n",
        "\n",
        "set_device('cpp_standalone', directory=None)  # Use fast \"C++ standalone mode\""
      ],
      "metadata": {
        "id": "Btu1OnNQuRbF"
      },
      "execution_count": 2,
      "outputs": []
    },
    {
      "cell_type": "code",
      "source": [
        "#Brain2 docs plot utils \n",
        "def adjust_spines(ax, spines, position=5):\n",
        "    \"\"\"\n",
        "    Set custom visibility and position of axes\n",
        "\n",
        "    ax       : Axes\n",
        "     Axes handle\n",
        "    spines   : List\n",
        "     String list of 'left', 'bottom', 'right', 'top' spines to show\n",
        "    position : Integer\n",
        "     Number of points for position of axis\n",
        "    \"\"\"\n",
        "    for loc, spine in ax.spines.items():\n",
        "        if loc in spines:\n",
        "            spine.set_position(('outward', position))\n",
        "        else:\n",
        "            spine.set_color('none')  # don't draw spine\n",
        "\n",
        "    # turn off ticks where there is no spine\n",
        "    if 'left' in spines:\n",
        "        ax.yaxis.set_ticks_position('left')\n",
        "    elif 'right' in spines:\n",
        "        ax.yaxis.set_ticks_position('right')\n",
        "    else:\n",
        "        # no yaxis ticks\n",
        "        ax.yaxis.set_ticks([])\n",
        "        ax.tick_params(axis='y', which='both', left='off', right='off')\n",
        "\n",
        "    if 'bottom' in spines:\n",
        "        ax.xaxis.set_ticks_position('bottom')\n",
        "    elif 'top' in spines:\n",
        "        ax.xaxis.set_ticks_position('top')\n",
        "    else:\n",
        "        # no xaxis ticks\n",
        "        ax.xaxis.set_ticks([])\n",
        "        ax.tick_params(axis='x', which='both', bottom='off', top='off')\n",
        "\n",
        "\n",
        "def adjust_ylabels(ax,x_offset=0):\n",
        "    '''\n",
        "    Scan all ax list and identify the outmost y-axis position.\n",
        "    Setting all the labels to that position + x_offset.\n",
        "    '''\n",
        "\n",
        "    xc = 0.0\n",
        "    for a in ax:\n",
        "        xc = min(xc, (a.yaxis.get_label()).get_position()[0])\n",
        "\n",
        "    for a in ax:\n",
        "        a.yaxis.set_label_coords(xc + x_offset,\n",
        "                                 (a.yaxis.get_label()).get_position()[1])"
      ],
      "metadata": {
        "id": "aTu5a4sDuW0G"
      },
      "execution_count": 3,
      "outputs": []
    },
    {
      "cell_type": "markdown",
      "source": [
        "## Model Parameters"
      ],
      "metadata": {
        "id": "B1m2hDM4ufcQ"
      }
    },
    {
      "cell_type": "code",
      "source": [
        "### General parameters\n",
        "N_e = 3200                   # Number of excitatory neurons\n",
        "N_i = 800                    # Number of inhibitory neurons\n",
        "N_a = 3200                   # Number of astrocytes\n",
        "\n",
        "## Some metrics parameters needed to establish proper connections\n",
        "size = 3.75*mmeter           # Length and width of the square lattice\n",
        "distance = 50*umeter         # Distance between neurons\n",
        "\n",
        "### Neuron parameters\n",
        "E_l = -60*mV                 # Leak reversal potential\n",
        "g_l = 9.99*nS                # Leak conductance\n",
        "E_e = 0*mV                   # Excitatory synaptic reversal potential\n",
        "E_i = -80*mV                 # Inhibitory synaptic reversal potential\n",
        "C_m = 198*pF                 # Membrane capacitance\n",
        "tau_e = 5*ms                 # Excitatory synaptic time constant\n",
        "tau_i = 10*ms                # Inhibitory synaptic time constant\n",
        "tau_r = 5*ms                 # Refractory period\n",
        "I_ex = 100*pA                # External current\n",
        "V_th = -50*mV                # Firing threshold\n",
        "V_r = E_l                    # Reset potential\n",
        "\n",
        "### Synapse parameters\n",
        "rho_c = 0.005                # Synaptic vesicle-to-extracellular space volume ratio\n",
        "Y_T = 500.*mmolar            # Total vesicular neurotransmitter concentration\n",
        "Omega_c = 40/second          # Neurotransmitter clearance rate\n",
        "U_0__star = 0.6              # Resting synaptic release probability\n",
        "Omega_f = 3.33/second        # Synaptic facilitation rate\n",
        "Omega_d = 2.0/second         # Synaptic depression rate\n",
        "w_e = 0.05*nS                # Excitatory synaptic conductance\n",
        "w_i = 1.0*nS                 # Inhibitory synaptic conductance\n",
        "# --- Presynaptic receptors\n",
        "O_G = 1.5/umolar/second      # Agonist binding (activating) rate\n",
        "Omega_G = 0.5/(60*second)    # Agonist release (deactivating) rate\n",
        "\n",
        "### Astrocyte parameters\n",
        "# ---  Calcium fluxes\n",
        "O_P = 0.9*umolar/second      # Maximal Ca^2+ uptake rate by SERCAs\n",
        "K_P = 0.05*umolar            # Ca2+ affinity of SERCAs\n",
        "C_T = 2*umolar               # Total cell free Ca^2+ content\n",
        "rho_A = 0.18                 # ER-to-cytoplasm volume ratio\n",
        "Omega_C = 6/second           # Maximal rate of Ca^2+ release by IP_3Rs\n",
        "Omega_L = 0.1/second         # Maximal rate of Ca^2+ leak from the ER\n",
        "# --- IP_3R kinectics\n",
        "d_1 = 0.13*umolar            # IP_3 binding affinity\n",
        "d_2 = 1.05*umolar            # Ca^2+ inactivation dissociation constant\n",
        "O_2 = 0.2/umolar/second      # IP_3R binding rate for Ca^2+ inhibition\n",
        "d_3 = 0.9434*umolar          # IP_3 dissociation constant\n",
        "d_5 = 0.08*umolar            # Ca^2+ activation dissociation constant\n",
        "# --- IP_3 production\n",
        "# --- Agonist-dependent IP_3 production\n",
        "O_beta = 0.5*umolar/second   # Maximal rate of IP_3 production by PLCbeta\n",
        "O_N = 0.3/umolar/second      # Agonist binding rate\n",
        "Omega_N = 0.5/second         # Maximal inactivation rate\n",
        "K_KC = 0.5*umolar            # Ca^2+ affinity of PKC\n",
        "zeta = 10                    # Maximal reduction of receptor affinity by PKC\n",
        "# --- Endogenous IP3 production\n",
        "O_delta = 1.2*umolar/second  # Maximal rate of IP_3 production by PLCdelta\n",
        "kappa_delta = 1.5*umolar     # Inhibition constant of PLC_delta by IP_3\n",
        "K_delta = 0.1*umolar         # Ca^2+ affinity of PLCdelta\n",
        "# --- IP_3 degradation\n",
        "Omega_5P = 0.05/second       # Maximal rate of IP_3 degradation by IP-5P\n",
        "K_D = 0.7*umolar             # Ca^2+ affinity of IP3-3K\n",
        "K_3K = 1.0*umolar            # IP_3 affinity of IP_3-3K\n",
        "O_3K = 4.5*umolar/second     # Maximal rate of IP_3 degradation by IP_3-3K\n",
        "# --- IP_3 diffusion\n",
        "F = 0.09*umolar/second       # GJC IP_3 permeability\n",
        "I_Theta = 0.3*umolar         # Threshold gradient for IP_3 diffusion\n",
        "omega_I = 0.05*umolar        # Scaling factor of diffusion\n",
        "# --- Gliotransmitter release and time course\n",
        "C_Theta = 0.5*umolar         # Ca^2+ threshold for exocytosis\n",
        "Omega_A = 0.6/second         # Gliotransmitter recycling rate\n",
        "U_A = 0.6                    # Gliotransmitter release probability\n",
        "G_T = 200*mmolar             # Total vesicular gliotransmitter concentration\n",
        "rho_e = 6.5e-4               # Astrocytic vesicle-to-extracellular volume ratio\n",
        "Omega_e = 60/second          # Gliotransmitter clearance rate\n",
        "alpha = 0.0                  # Gliotransmission nature"
      ],
      "metadata": {
        "id": "sLDUBOftuczN"
      },
      "execution_count": 4,
      "outputs": []
    },
    {
      "cell_type": "markdown",
      "source": [
        "## Define HF Stimulus"
      ],
      "metadata": {
        "id": "9zxSfjrTul_8"
      }
    },
    {
      "cell_type": "code",
      "source": [
        "stimulus = TimedArray([1.0, 1.2, 1.0, 1.0], dt=2*second)\n",
        "duration = 8*second          # Total simulation time"
      ],
      "metadata": {
        "id": "hTbG0UumuZPY"
      },
      "execution_count": 5,
      "outputs": []
    },
    {
      "cell_type": "markdown",
      "source": [
        "## Model Definition"
      ],
      "metadata": {
        "id": "SquIZaSnuygB"
      }
    },
    {
      "cell_type": "code",
      "source": [
        "### Neurons\n",
        "neuron_eqs = '''\n",
        "dv/dt = (g_l*(E_l-v) + g_e*(E_e-v) + g_i*(E_i-v) + I_ex*stimulus(t))/C_m : volt (unless refractory)\n",
        "dg_e/dt = -g_e/tau_e : siemens  # post-synaptic excitatory conductance\n",
        "dg_i/dt = -g_i/tau_i : siemens  # post-synaptic inhibitory conductance\n",
        "# Neuron position in space\n",
        "x : meter (constant)\n",
        "y : meter (constant)\n",
        "'''\n",
        "neurons = NeuronGroup(N_e + N_i, model=neuron_eqs,\n",
        "                      threshold='v>V_th', reset='v=V_r',\n",
        "                      refractory='tau_r', method='euler')\n",
        "exc_neurons = neurons[:N_e]\n",
        "inh_neurons = neurons[N_e:]\n",
        "# Arrange excitatory neurons in a grid\n",
        "N_rows = int(sqrt(N_e))\n",
        "N_cols = N_e//N_rows\n",
        "grid_dist = (size / N_cols)\n",
        "exc_neurons.x = '(i // N_rows)*grid_dist - N_rows/2.0*grid_dist'\n",
        "exc_neurons.y = '(i % N_rows)*grid_dist - N_cols/2.0*grid_dist'\n",
        "# Random initial membrane potential values and conductances\n",
        "neurons.v = 'E_l + rand()*(V_th-E_l)'\n",
        "neurons.g_e = 'rand()*w_e'\n",
        "neurons.g_i = 'rand()*w_i'\n",
        "\n",
        "### Synapses\n",
        "synapses_eqs = '''\n",
        "# Neurotransmitter\n",
        "dY_S/dt = -Omega_c * Y_S                                    : mmolar (clock-driven)\n",
        "# Fraction of activated presynaptic receptors\n",
        "dGamma_S/dt = O_G * G_A * (1 - Gamma_S) - Omega_G * Gamma_S : 1 (clock-driven)\n",
        "# Usage of releasable neurotransmitter per single action potential:\n",
        "du_S/dt = -Omega_f * u_S                                    : 1 (event-driven)\n",
        "# Fraction of synaptic neurotransmitter resources available for release:\n",
        "dx_S/dt = Omega_d *(1 - x_S)                                : 1 (event-driven)\n",
        "U_0                                                         : 1\n",
        "# released synaptic neurotransmitter resources:\n",
        "r_S                                                         : 1\n",
        "# gliotransmitter concentration in the extracellular space:\n",
        "G_A                                                         : mmolar\n",
        "# which astrocyte covers this synapse ?\n",
        "astrocyte_index : integer (constant)\n",
        "'''\n",
        "synapses_action = '''\n",
        "U_0 = (1 - Gamma_S) * U_0__star + alpha * Gamma_S\n",
        "u_S += U_0 * (1 - u_S)\n",
        "r_S = u_S * x_S\n",
        "x_S -= r_S\n",
        "Y_S += rho_c * Y_T * r_S\n",
        "'''\n",
        "exc_syn = Synapses(exc_neurons, neurons, model=synapses_eqs,\n",
        "                   on_pre=synapses_action+'g_e_post += w_e*r_S',\n",
        "                   method='exact')\n",
        "exc_syn.connect(True, p=0.05)\n",
        "exc_syn.x_S = 1.0\n",
        "inh_syn = Synapses(inh_neurons, neurons, model=synapses_eqs,\n",
        "                   on_pre=synapses_action+'g_i_post += w_i*r_S',\n",
        "                   method='exact')\n",
        "inh_syn.connect(True, p=0.2)\n",
        "inh_syn.x_S = 1.0\n",
        "# Connect excitatory synapses to an astrocyte depending on the position of the\n",
        "# post-synaptic neuron\n",
        "N_rows_a = int(sqrt(N_a))\n",
        "N_cols_a = N_a/N_rows_a\n",
        "grid_dist = size / N_rows_a\n",
        "exc_syn.astrocyte_index = ('int(x_post/grid_dist) + '\n",
        "                           'N_cols_a*int(y_post/grid_dist)')\n",
        "### Astrocytes\n",
        "# The astrocyte emits gliotransmitter when its Ca^2+ concentration crosses\n",
        "# a threshold\n",
        "astro_eqs = '''\n",
        "# Fraction of activated astrocyte receptors:\n",
        "dGamma_A/dt = O_N * Y_S * (1 - clip(Gamma_A,0,1)) -\n",
        "              Omega_N*(1 + zeta * C/(C + K_KC)) * clip(Gamma_A,0,1) : 1\n",
        "# Intracellular IP_3\n",
        "dI/dt = J_beta + J_delta - J_3K - J_5P + J_coupling              : mmolar\n",
        "J_beta = O_beta * Gamma_A                                        : mmolar/second\n",
        "J_delta = O_delta/(1 + I/kappa_delta) * C**2/(C**2 + K_delta**2) : mmolar/second\n",
        "J_3K = O_3K * C**4/(C**4 + K_D**4) * I/(I + K_3K)                : mmolar/second\n",
        "J_5P = Omega_5P*I                                                : mmolar/second\n",
        "# Diffusion between astrocytes:\n",
        "J_coupling                                                       : mmolar/second\n",
        "\n",
        "# Ca^2+-induced Ca^2+ release:\n",
        "dC/dt = J_r + J_l - J_p                                   : mmolar\n",
        "dh/dt = (h_inf - h)/tau_h                                 : 1\n",
        "J_r = (Omega_C * m_inf**3 * h**3) * (C_T - (1 + rho_A)*C) : mmolar/second\n",
        "J_l = Omega_L * (C_T - (1 + rho_A)*C)                     : mmolar/second\n",
        "J_p = O_P * C**2/(C**2 + K_P**2)                          : mmolar/second\n",
        "m_inf = I/(I + d_1) * C/(C + d_5)                         : 1\n",
        "h_inf = Q_2/(Q_2 + C)                                     : 1\n",
        "tau_h = 1/(O_2 * (Q_2 + C))                               : second\n",
        "Q_2 = d_2 * (I + d_1)/(I + d_3)                           : mmolar\n",
        "\n",
        "# Fraction of gliotransmitter resources available for release:\n",
        "dx_A/dt = Omega_A * (1 - x_A) : 1\n",
        "# gliotransmitter concentration in the extracellular space:\n",
        "dG_A/dt = -Omega_e*G_A        : mmolar\n",
        "# Neurotransmitter concentration in the extracellular space:\n",
        "Y_S                           : mmolar\n",
        "# The astrocyte position in space\n",
        "x : meter (constant)\n",
        "y : meter (constant)\n",
        "'''\n",
        "glio_release = '''\n",
        "G_A += rho_e * G_T * U_A * x_A\n",
        "x_A -= U_A *  x_A\n",
        "'''\n",
        "astrocytes = NeuronGroup(N_a, astro_eqs,\n",
        "                         # The following formulation makes sure that a \"spike\" is\n",
        "                         # only triggered at the first threshold crossing\n",
        "                         threshold='C>C_Theta',\n",
        "                         refractory='C>C_Theta',\n",
        "                         # The gliotransmitter release happens when the threshold\n",
        "                         # is crossed, in Brian terms it can therefore be\n",
        "                         # considered a \"reset\"\n",
        "                         reset=glio_release,\n",
        "                         method='rk4',\n",
        "                         dt=1e-2*second)\n",
        "# Arrange astrocytes in a grid\n",
        "astrocytes.x = '(i // N_rows_a)*grid_dist - N_rows_a/2.0*grid_dist'\n",
        "astrocytes.y = '(i % N_rows_a)*grid_dist - N_cols_a/2.0*grid_dist'\n",
        "# Add random initialization\n",
        "astrocytes.C = 0.01*umolar\n",
        "astrocytes.h = 0.9\n",
        "astrocytes.I = 0.01*umolar\n",
        "astrocytes.x_A = 1.0\n",
        "\n",
        "ecs_astro_to_syn = Synapses(astrocytes, exc_syn,\n",
        "                            'G_A_post = G_A_pre : mmolar (summed)')\n",
        "ecs_astro_to_syn.connect('i == astrocyte_index_post')\n",
        "ecs_syn_to_astro = Synapses(exc_syn, astrocytes,\n",
        "                            'Y_S_post = Y_S_pre/N_incoming : mmolar (summed)')\n",
        "ecs_syn_to_astro.connect('astrocyte_index_pre == j')\n",
        "# Diffusion between astrocytes\n",
        "astro_to_astro_eqs = '''\n",
        "delta_I = I_post - I_pre            : mmolar\n",
        "J_coupling_post = -(1 + tanh((abs(delta_I) - I_Theta)/omega_I))*\n",
        "                  sign(delta_I)*F/2 : mmolar/second (summed)\n",
        "'''\n",
        "astro_to_astro = Synapses(astrocytes, astrocytes,\n",
        "                          model=astro_to_astro_eqs)\n",
        "# Connect to all astrocytes less than 75um away\n",
        "# (about 4 connections per astrocyte)\n",
        "astro_to_astro.connect('i != j and '\n",
        "                       'sqrt((x_pre-x_post)**2 +'\n",
        "                       '     (y_pre-y_post)**2) < 75*um')"
      ],
      "metadata": {
        "id": "1APVyG4Su2do"
      },
      "execution_count": 6,
      "outputs": []
    },
    {
      "cell_type": "markdown",
      "source": [
        "## Monitors"
      ],
      "metadata": {
        "id": "3V3AI2mWu7C8"
      }
    },
    {
      "cell_type": "code",
      "source": [
        "# Note that we could use a single monitor for all neurons instead, but this\n",
        "# way plotting is a bit easier in the end\n",
        "exc_mon = SpikeMonitor(exc_neurons)\n",
        "inh_mon = SpikeMonitor(inh_neurons)\n",
        "ast_mon = SpikeMonitor(astrocytes)"
      ],
      "metadata": {
        "id": "88A62Qcou9Wd"
      },
      "execution_count": 7,
      "outputs": []
    },
    {
      "cell_type": "markdown",
      "source": [
        "## Simulation Run"
      ],
      "metadata": {
        "id": "XgveMGQvu_uh"
      }
    },
    {
      "cell_type": "code",
      "source": [
        "run(duration, report='text')"
      ],
      "metadata": {
        "id": "5TTlDT5tvCh7"
      },
      "execution_count": null,
      "outputs": []
    },
    {
      "cell_type": "markdown",
      "source": [
        "## Plot of Spiking Activity"
      ],
      "metadata": {
        "id": "1wAPMLTMvEFq"
      }
    },
    {
      "cell_type": "code",
      "source": [
        "#plt.style.use('figures.mplstyle')\n",
        "\n",
        "fig, ax = plt.subplots(nrows=3, ncols=1, sharex=True, figsize=(6.26894, 6.26894*0.8),\n",
        "                       gridspec_kw={'height_ratios': [1, 6, 2],\n",
        "                                    'left': 0.12, 'top': 0.97})\n",
        "time_range = np.linspace(0, duration/second, int(duration/second*100))*second\n",
        "ax[0].plot(time_range, I_ex*stimulus(time_range)/pA, 'k')\n",
        "ax[0].set(xlim=(0, duration/second), ylim=(98, 122),\n",
        "          yticks=[100, 120], ylabel='$I_{ex}$ (pA)')\n",
        "adjust_spines(ax[0], ['left'])\n",
        "\n",
        "## We only plot a fraction of the spikes\n",
        "fraction = 4\n",
        "ax[1].plot(exc_mon.t[exc_mon.i <= N_e//fraction]/second,\n",
        "           exc_mon.i[exc_mon.i <= N_e//fraction], '|', color='C0')\n",
        "ax[1].plot(inh_mon.t[inh_mon.i <= N_i//fraction]/second,\n",
        "           inh_mon.i[inh_mon.i <= N_i//fraction]+N_e//fraction, '|', color='C1')\n",
        "ax[1].plot(ast_mon.t[ast_mon.i <= N_a//fraction]/second,\n",
        "           ast_mon.i[ast_mon.i <= N_a//fraction]+(N_e+N_i)//fraction,\n",
        "           '|', color='C2')\n",
        "ax[1].set(xlim=(0, duration/second), ylim=[0, (N_e+N_i+N_a)//fraction],\n",
        "          yticks=np.arange(0, (N_e+N_i+N_a)//fraction+1, 250),\n",
        "          ylabel='cell index')\n",
        "adjust_spines(ax[1], ['left'])\n",
        "\n",
        "# Generate frequencies\n",
        "bin_size = 1*ms\n",
        "spk_count, bin_edges = np.histogram(np.r_[exc_mon.t/second, inh_mon.t/second],\n",
        "                                    int(duration/bin_size))\n",
        "rate = 1.0*spk_count/(N_e + N_i)/bin_size/Hz\n",
        "rate[rate<0.001] = 0.001 # Fix 0 lower bound for log scale\n",
        "ax[2].semilogy(bin_edges[:-1], rate, '-', color='k')\n",
        "adjust_spines(ax[2], ['left', 'bottom'])\n",
        "ax[2].set(xlim=(0, duration/second), ylim=(0.1, 150),\n",
        "          xticks=np.arange(0, 9), yticks=[0.1, 1, 10, 100],\n",
        "          xlabel='time (s)', ylabel='rate (Hz)')\n",
        "ax[2].get_yaxis().set_major_formatter(ScalarFormatter())\n",
        "\n",
        "adjust_ylabels(ax, x_offset=-0.11)\n",
        "\n",
        "plt.show()"
      ],
      "metadata": {
        "id": "xSjvsfk9vJzR"
      },
      "execution_count": null,
      "outputs": []
    }
  ]
}